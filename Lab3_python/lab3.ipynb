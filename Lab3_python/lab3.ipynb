{
 "cells": [
  {
   "cell_type": "markdown",
   "metadata": {},
   "source": [
    "# Лабораторная работа 3. Объектно-ориентированное программирование. Часть 1."
   ]
  },
  {
   "cell_type": "markdown",
   "metadata": {},
   "source": [
    "Распространённым примером для демонстрации деталей реализации пользовательского класса является разработка класса, воплощающего Fraction. Мы уже видели, что Python предоставляет в наше пользование несколько числовых классов. Однако, бывают моменты, когда более подходящим является создание объекта данных лишь “выглядящего как” дробь.\n",
    "\n",
    "Дробь (например, $\\frac{3}{5}$) состоит из двух частей. Верхнее значение, называемое числитель, может быть любым целым числом. Нижнее значение (знаменатель) - любым целым, большим нуля (отрицательные дроби имеют отрицательный числитель). Также для любой дроби можно создать приближение с плавающей запятой. В этом случае мы хотели бы представлять дробь как точное значение.\n",
    "\n",
    "Операции для типа Fraction будут позволять его объектам данных вести себя подобно любым другим числовым значениям. Мы должны быть готовы складывать, вычитать, умножать и делить дроби. Также необходима возможность показывать дроби в их стандартной “слэш”-форме (например, $\\frac{3}{5}$). Все методы дробей должны возвращать результат в своей сокращённой форме таким образом, чтобы, вне зависимости от вида вычислений, в конце мы всегда имели наиболее общепринятую форму.\n",
    "\n",
    "Запишите класс Fraction. Принимайте через конструктор числитель и знаменатель. "
   ]
  },
  {
   "cell_type": "code",
   "execution_count": 19,
   "metadata": {},
   "outputs": [],
   "source": [
    "class Fraction:\n",
    "    def __init__(self,numaretor,denominator):\n",
    "        self.numaretor = numaretor\n",
    "        self.denominator = denominator\n",
    "        \n",
    "    #Можно использовать просто класс str, без перезначения стандартного, \n",
    "    #но тогда не получится запринтить без вызова этого метода\n",
    "    #---------------------------------------\n",
    "    #Перегрузка оператора строкового вызова\n",
    "    #__str__(self) - вызывается функциями str, print и format. Возвращает строковое представление объекта.\n",
    "    def __str__(self):\n",
    "        return (str(self.numaretor) + '/' + str(self.denominator))\n",
    "        \n",
    "        \n",
    "    def show(self):\n",
    "        print(self)\n",
    "      \n",
    "    #перегрузка арифитического оператора\n",
    "    #__add__(self, other) - сложение. x + y вызывает x.__add__(y).\n",
    "    def __add__(self, other):\n",
    "        sum_num = self.numaretor * other.denominator + self.denominator * other.numaretor\n",
    "        sum_den = self.denominator * other.denominator\n",
    "        #Создаем отдельную сущность под новые значения\n",
    "        return Fraction(sum_num,sum_den)\n",
    "    \n",
    "    def devision(self):\n",
    "        a = self.numaretor\n",
    "        b = self.denominator\n",
    "        #Цикл проверки на делимость, чтобы найти общий делитель\n",
    "        while a!=0 and b!=0:\n",
    "            if a>b:\n",
    "                a %= b #a mod b\n",
    "            else:\n",
    "                b %= a #b mod a\n",
    "        n = a+b\n",
    "        self.numaretor/=n\n",
    "        self.denominator/=n\n",
    "        print(self)\n",
    "        \n",
    "    #__eq__(self, other) - x == y вызывает x.__eq__(y).\n",
    "    def __eq__(self,other):\n",
    "        #испотльзуем метод devision для упрощения:\n",
    "        self.devision()\n",
    "        other.devision()\n",
    "        return (self.numaretor == other.numaretor and self.denominator == other.denominator)\n",
    "    \n",
    "    #__mul__(self, other) - умножение (x * y).\n",
    "    #__sub__(self, other) - вычитание (x - y).\n",
    "    \n",
    "    def __mul__(self, other):\n",
    "        return Fraction(self.numaretor*other.numaretor, self.denominator*other.denominator)\n",
    "    \n",
    "    def __sub__(self,other):\n",
    "        #other.numaretor = -(other.numaretor)\n",
    "        #return self + other\n",
    "        temp = Fraction(-(other.numaretor), other.denominator)\n",
    "        return self + temp\n",
    "    \n",
    "    #__lt__(self, other) - x < y вызывает x.__lt__(y).\n",
    "    #__gt__(self, other) - x > y вызывает x.__gt__(y).\n",
    "    \n",
    "    def __lt__(self,other):\n",
    "        return ((self.numaretor/self.denominator)<(other.numaretor/other.denominator))\n",
    "    \n",
    "    def __gt__(self,other):\n",
    "    #    return ((self.numaretor/self.denominator)>(other.numaretor/other.denominator))\n",
    "         return not (self<other)\n",
    "    \n",
    "    #Пропустил элемент /\n",
    "    #__truediv__(self, other) - деление (x / y).\n",
    "    \n",
    "    def __truediv__(self,other):\n",
    "        #temp = other.numaretor\n",
    "        #other.numaretor = other.denominator\n",
    "        #other.denominator = temp\n",
    "        #return (self*other)\n",
    "        temp = Fraction (other.denominator, other.numaretor)\n",
    "        return (self*temp)"
   ]
  },
  {
   "cell_type": "markdown",
   "metadata": {},
   "source": [
    "Создай сущность класса Fraction. "
   ]
  },
  {
   "cell_type": "code",
   "execution_count": 36,
   "metadata": {},
   "outputs": [],
   "source": [
    "fr = Fraction(3,4)"
   ]
  },
  {
   "cell_type": "markdown",
   "metadata": {},
   "source": [
    "Вызовите print от сущности. "
   ]
  },
  {
   "cell_type": "code",
   "execution_count": 27,
   "metadata": {},
   "outputs": [
    {
     "name": "stdout",
     "output_type": "stream",
     "text": [
      "3/4\n"
     ]
    }
   ],
   "source": [
    "print(fr)"
   ]
  },
  {
   "cell_type": "markdown",
   "metadata": {},
   "source": [
    " Функция print требует, чтобы объект конвертировал самого себя в строку, которая будет записана на выходе."
   ]
  },
  {
   "cell_type": "code",
   "execution_count": 28,
   "metadata": {},
   "outputs": [
    {
     "name": "stdout",
     "output_type": "stream",
     "text": [
      "3/4\n"
     ]
    }
   ],
   "source": [
    "print(fr) \n",
    "#Немного не понял зачем тут еще один print?"
   ]
  },
  {
   "cell_type": "markdown",
   "metadata": {},
   "source": [
    "Определите метод под названием show, который позволит объекту Fraction печать самого себя как строку. Продемострируйете. "
   ]
  },
  {
   "cell_type": "code",
   "execution_count": 29,
   "metadata": {},
   "outputs": [
    {
     "name": "stdout",
     "output_type": "stream",
     "text": [
      "3/4\n"
     ]
    }
   ],
   "source": [
    "fr.show()"
   ]
  },
  {
   "cell_type": "markdown",
   "metadata": {},
   "source": [
    "Теперь тоже самое только стандартными методами. Продемострируйте, что можно дробь выводить через print."
   ]
  },
  {
   "cell_type": "code",
   "execution_count": 37,
   "metadata": {},
   "outputs": [
    {
     "name": "stdout",
     "output_type": "stream",
     "text": [
      "3/4\n"
     ]
    }
   ],
   "source": [
    "print (str(fr.numaretor) + '/' + str(fr.denominator))"
   ]
  },
  {
   "cell_type": "markdown",
   "metadata": {},
   "source": [
    "Мы можем перегрузить множество других методов для нового класса Fraction. Одними из наиболее важных из них являются основные арифметические операции. Создайте два объекта Fraction, а затем сложить их вместе, используя стандартную запись “+”"
   ]
  },
  {
   "cell_type": "code",
   "execution_count": 70,
   "metadata": {},
   "outputs": [
    {
     "name": "stdout",
     "output_type": "stream",
     "text": [
      "30/10\n"
     ]
    }
   ],
   "source": [
    "fr1 = Fraction(10,5)\n",
    "fr2 = Fraction(2,2)\n",
    "print(fr1+fr2)"
   ]
  },
  {
   "cell_type": "markdown",
   "metadata": {},
   "source": [
    "Если вы внимательнее посмотрите на сообщение об ошибке, то заметите - загвоздка в том, что оператор “+” не понимает операндов Fraction. Перегрузите сложение."
   ]
  },
  {
   "cell_type": "code",
   "execution_count": 71,
   "metadata": {},
   "outputs": [
    {
     "name": "stdout",
     "output_type": "stream",
     "text": [
      "30/10\n"
     ]
    }
   ],
   "source": [
    "print(fr1+fr2)"
   ]
  },
  {
   "cell_type": "markdown",
   "metadata": {},
   "source": [
    "Метод сложения работает, как мы того и хотели, но одну вещь можно было бы улучшить. Дробь не сокращается. Реализуйте метод для сокращения дроби. "
   ]
  },
  {
   "cell_type": "code",
   "execution_count": 72,
   "metadata": {},
   "outputs": [
    {
     "name": "stdout",
     "output_type": "stream",
     "text": [
      "3.0/1.0\n"
     ]
    }
   ],
   "source": [
    "(fr1+fr2).devision()\n",
    "#По какой-то причине print((fr1+fr2).devision()) не работает и выбрасывает NONE\n",
    "#Хотя по сути создается новая сущность, сокращается, а потом просто вызывается перегруженный метод\n",
    "#__str__ \n",
    "#очень странно :\\ . Поэтому реализовал print прямо внутри метода"
   ]
  },
  {
   "cell_type": "markdown",
   "metadata": {},
   "source": [
    "Предположим, что у нас есть два объекта Fraction f1 и f2. f1 == f2 будет истиной, если они ссылаются на один и тот же объект. Два разных объекта с одинаковыми числителями и знаменателями в этой реализации равны не будут. Это называется поверхностным равенством. Создайте глубокое равенство - по одинаковому значению, а не по одинаковой ссылке - перегрузив метод __eq__. Это ещё один стандартный метод, доступный в любом классе. Он сравнивает два объекта и возвращает True, если их значения равны, или False в противном случае."
   ]
  },
  {
   "cell_type": "code",
   "execution_count": 84,
   "metadata": {
    "scrolled": true
   },
   "outputs": [
    {
     "name": "stdout",
     "output_type": "stream",
     "text": [
      "3.0/28.0\n",
      "3.0/28.0\n",
      "True\n",
      "7.0/1.0\n",
      "5.0/1.0\n",
      "False\n"
     ]
    }
   ],
   "source": [
    "#Создадим новые сущности для упрощения\n",
    "fr1 = Fraction(3,28)\n",
    "fr2 = Fraction(9,84)\n",
    "print(fr1 == fr2)\n",
    "fr3 = Fraction(21,3)\n",
    "fr4 = Fraction(25,5)\n",
    "print(fr3 == fr4)"
   ]
  },
  {
   "cell_type": "markdown",
   "metadata": {},
   "source": [
    "Напишите реализацию операций *, / и -. Продемонстрируйте. "
   ]
  },
  {
   "cell_type": "code",
   "execution_count": 24,
   "metadata": {},
   "outputs": [
    {
     "name": "stdout",
     "output_type": "stream",
     "text": [
      "39/336\n",
      "36/364\n",
      "328/336\n"
     ]
    }
   ],
   "source": [
    "fr1 = Fraction(3,28)\n",
    "fr2 = Fraction(13,12)\n",
    "print(fr1*fr2)\n",
    "print(fr1/fr2)\n",
    "print(fr2-fr1) #Я тут отнимаю первый от второго(!)\n"
   ]
  },
  {
   "cell_type": "markdown",
   "metadata": {},
   "source": [
    "Также реализуйте операторы сравнения > и <."
   ]
  },
  {
   "cell_type": "code",
   "execution_count": 6,
   "metadata": {},
   "outputs": [
    {
     "name": "stdout",
     "output_type": "stream",
     "text": [
      "True\n",
      "False\n"
     ]
    }
   ],
   "source": [
    "print(fr1<fr2)\n",
    "print(fr1>fr2)"
   ]
  },
  {
   "cell_type": "markdown",
   "metadata": {},
   "source": [
    "# ЧАСТЬ 2. Создание базовых классов"
   ]
  },
  {
   "cell_type": "markdown",
   "metadata": {},
   "source": [
    "Вам на вход приходит последовательность целых чисел. Вам надо обрабатывать ее следующим образом: выводить на экран сумму первых пяти чисел этой последовательности, затем следующих 5 итд\n",
    "\n",
    "Но последовательность не дается вам сразу целиком. С течением времени к вам поступают её последовательные части. Например, сначала первые три элемента, потом следующие шесть, потом следующие два и т. д.\n",
    "\n",
    "Реализуйте класс Buffer, который будет накапливать в себе элементы последовательности и выводить сумму пятерок последовательных элементов по мере их накопления.\n",
    "\n",
    "Одним из требований к классу является то, что он не должен хранить в себе больше элементов, чем ему действительно необходимо, т. е. он не должен хранить элементы, которые уже вошли в пятерку, для которой была выведена сумма.\n",
    "\n",
    "Класс должен иметь следующий вид"
   ]
  },
  {
   "cell_type": "code",
   "execution_count": 26,
   "metadata": {},
   "outputs": [
    {
     "name": "stdout",
     "output_type": "stream",
     "text": [
      "18\n",
      "[4, 8]\n"
     ]
    }
   ],
   "source": [
    "#Небольшой метод для сложения элементов списка\n",
    "def sum(List):\n",
    "    Sum = 0\n",
    "    for i in List:\n",
    "        Sum = Sum + i\n",
    "    return Sum\n",
    "\n",
    "class Buffer:\n",
    "    def __init__(self):\n",
    "        #создадим отдельный список для хранения элементов и работы с ними:\n",
    "        self.current_list = []\n",
    "    \n",
    "    def add(self, *a):\n",
    "        #метод extend добавит элементы из a в наш список\n",
    "        self.current_list.extend(a)\n",
    "        #if len(self.current_list) >= 5\n",
    "        while len(self.current_list) >= 5:\n",
    "            print(sum(self.current_list[:5]))\n",
    "            #После сложения первых 5 элементов, надо их удалить.\n",
    "            #Просто пирсвоим наш лист, ему же без первых 5 элементов:\n",
    "            self.current_list = self.current_list[5:]\n",
    "\n",
    "    def get_current_part(self):\n",
    "        #Вернет список элементов\n",
    "        return self.current_list\n",
    "    \n",
    "#Пример работы кода:\n",
    "bf = Buffer()\n",
    "bf.add(2,3,4,2,7,4,8)\n",
    "print(bf.get_current_part())"
   ]
  },
  {
   "cell_type": "markdown",
   "metadata": {},
   "source": [
    "Создайте правильные цепочки наследования классов для: Животное, собака, щенок, самолет, компьютер, имеющее лапы, летающее, орел, белка-летяга, разумное, человек, медуза, одуванчик.\n",
    "В эти классы добавьте конструкторы, а также методы для следующих действий (где надо): полаять, родить, сложить два числа, ужалить, подумать, взлететь, пустить корни, поесть, взять, а также следующие поля: возраст, латинское название (или модель). Прокомментируйте вашу логику. Можете использовать русские слова. "
   ]
  },
  {
   "cell_type": "code",
   "execution_count": 7,
   "metadata": {},
   "outputs": [],
   "source": [
    "class Животное:\n",
    "    pass"
   ]
  },
  {
   "cell_type": "code",
   "execution_count": null,
   "metadata": {},
   "outputs": [],
   "source": []
  }
 ],
 "metadata": {
  "kernelspec": {
   "display_name": "Python 3",
   "language": "python",
   "name": "python3"
  },
  "language_info": {
   "codemirror_mode": {
    "name": "ipython",
    "version": 3
   },
   "file_extension": ".py",
   "mimetype": "text/x-python",
   "name": "python",
   "nbconvert_exporter": "python",
   "pygments_lexer": "ipython3",
   "version": "3.8.2"
  }
 },
 "nbformat": 4,
 "nbformat_minor": 1
}
